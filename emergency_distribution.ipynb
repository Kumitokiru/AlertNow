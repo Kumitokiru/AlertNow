{
  "nbformat": 4,
  "nbformat_minor": 0,
  "metadata": {
    "colab": {
      "provenance": []
    },
    "kernelspec": {
      "name": "python3",
      "display_name": "Python 3"
    },
    "language_info": {
      "name": "python"
    }
  },
  "cells": [
    {
      "cell_type": "code",
      "source": [
        "!pip install opencv-python scikit-learn numpy matplotlib joblib"
      ],
      "metadata": {
        "colab": {
          "base_uri": "https://localhost:8080/"
        },
        "collapsed": true,
        "id": "XEmFaZ-pK5Bz",
        "outputId": "b7e6e6a4-d3e9-40bd-9264-b4e64cfee32f"
      },
      "execution_count": 1,
      "outputs": [
        {
          "output_type": "stream",
          "name": "stdout",
          "text": [
            "Requirement already satisfied: opencv-python in /usr/local/lib/python3.11/dist-packages (4.11.0.86)\n",
            "Requirement already satisfied: scikit-learn in /usr/local/lib/python3.11/dist-packages (1.6.1)\n",
            "Requirement already satisfied: numpy in /usr/local/lib/python3.11/dist-packages (2.0.2)\n",
            "Requirement already satisfied: matplotlib in /usr/local/lib/python3.11/dist-packages (3.10.0)\n",
            "Requirement already satisfied: joblib in /usr/local/lib/python3.11/dist-packages (1.5.1)\n",
            "Requirement already satisfied: scipy>=1.6.0 in /usr/local/lib/python3.11/dist-packages (from scikit-learn) (1.15.3)\n",
            "Requirement already satisfied: threadpoolctl>=3.1.0 in /usr/local/lib/python3.11/dist-packages (from scikit-learn) (3.6.0)\n",
            "Requirement already satisfied: contourpy>=1.0.1 in /usr/local/lib/python3.11/dist-packages (from matplotlib) (1.3.2)\n",
            "Requirement already satisfied: cycler>=0.10 in /usr/local/lib/python3.11/dist-packages (from matplotlib) (0.12.1)\n",
            "Requirement already satisfied: fonttools>=4.22.0 in /usr/local/lib/python3.11/dist-packages (from matplotlib) (4.58.1)\n",
            "Requirement already satisfied: kiwisolver>=1.3.1 in /usr/local/lib/python3.11/dist-packages (from matplotlib) (1.4.8)\n",
            "Requirement already satisfied: packaging>=20.0 in /usr/local/lib/python3.11/dist-packages (from matplotlib) (24.2)\n",
            "Requirement already satisfied: pillow>=8 in /usr/local/lib/python3.11/dist-packages (from matplotlib) (11.2.1)\n",
            "Requirement already satisfied: pyparsing>=2.3.1 in /usr/local/lib/python3.11/dist-packages (from matplotlib) (3.2.3)\n",
            "Requirement already satisfied: python-dateutil>=2.7 in /usr/local/lib/python3.11/dist-packages (from matplotlib) (2.9.0.post0)\n",
            "Requirement already satisfied: six>=1.5 in /usr/local/lib/python3.11/dist-packages (from python-dateutil>=2.7->matplotlib) (1.17.0)\n"
          ]
        }
      ]
    },
    {
      "cell_type": "code",
      "execution_count": 10,
      "metadata": {
        "id": "TYPNgG54Kjk8"
      },
      "outputs": [],
      "source": [
        "import cv2\n",
        "import numpy as np\n",
        "from sklearn.tree import DecisionTreeClassifier\n",
        "from collections import Counter\n",
        "import matplotlib.pyplot as plt\n",
        "import joblib\n",
        "import os"
      ]
    },
    {
      "cell_type": "code",
      "source": [
        "def load_and_preprocess_images(image_paths, labels):\n",
        "    X = []\n",
        "    processed_labels = [] # Create a list to store labels for successfully loaded images\n",
        "    for i, path in enumerate(image_paths): # Iterate with index to get corresponding label\n",
        "        img = cv2.imread(path, cv2.IMREAD_GRAYSCALE)\n",
        "        if img is None:\n",
        "            print(f\"Failed to load {path}\") # Corrected print statement\n",
        "            continue  # Skip to the next image if loading fails\n",
        "\n",
        "        img = cv2.resize(img, (64, 64))  # Resize to 64x64\n",
        "        X.append(img.flatten())  # Flatten image into 1D array\n",
        "        processed_labels.append(labels[i]) # Append the label for the successfully loaded image\n",
        "\n",
        "    return np.array(X), np.array(processed_labels) # Return outside the loop\n"
      ],
      "metadata": {
        "id": "6SGXazcYK_eH"
      },
      "execution_count": 11,
      "outputs": []
    },
    {
      "cell_type": "code",
      "source": [
        "directory_path = \"/content/road_accident\"\n",
        "image_paths = []\n",
        "labels = [] # Initialize labels list outside the loop\n",
        "for filename in os.listdir(directory_path):\n",
        "    if filename.endswith(\".jpg\") or filename.endswith(\".jpeg\"):\n",
        "        full_path = os.path.join(directory_path, filename)\n",
        "        image_paths.append(full_path)\n",
        "        labels.append(\"accident\") # Append label for each image\n",
        "\n",
        "X_train, y_train = load_and_preprocess_images(image_paths, labels)\n",
        "print(f\"Training data shape: {X_train.shape}, Labels shape: {y_train.shape}\") # Corrected print statement\n"
      ],
      "metadata": {
        "colab": {
          "base_uri": "https://localhost:8080/"
        },
        "id": "FeBHytsEL8qQ",
        "outputId": "db55fa0a-0f0f-4a73-dc04-f1cd25524fdf"
      },
      "execution_count": 12,
      "outputs": [
        {
          "output_type": "stream",
          "name": "stdout",
          "text": [
            "Training data shape: (347, 4096), Labels shape: (347,)\n"
          ]
        }
      ]
    },
    {
      "cell_type": "code",
      "source": [
        "dt_classifier = DecisionTreeClassifier(max_depth=3, random_state=42)\n",
        "dt_classifier.fit(X_train, y_train)\n",
        "print(\"Model trained successfully\")"
      ],
      "metadata": {
        "colab": {
          "base_uri": "https://localhost:8080/"
        },
        "id": "8MqVq7tLMfMS",
        "outputId": "07a361d4-d9d6-4481-c711-8fedf3ee06ab"
      },
      "execution_count": 13,
      "outputs": [
        {
          "output_type": "stream",
          "name": "stdout",
          "text": [
            "Model trained successfully\n"
          ]
        }
      ]
    },
    {
      "cell_type": "code",
      "source": [
        "def predict_emergency_type(image_path):\n",
        "    img = cv2.imread(image_path, cv2.IMREAD_GRAYSCALE)\n",
        "    if img is None:\n",
        "        return \"unknown\"\n",
        "    img = cv2.resize(img, (64, 64))\n",
        "    features = img.flatten().reshape(1, -1)\n",
        "    prediction = dt_classifier.predict(features)[0]\n",
        "    return prediction"
      ],
      "metadata": {
        "id": "em8585EkMosu"
      },
      "execution_count": 14,
      "outputs": []
    },
    {
      "cell_type": "code",
      "source": [
        "def get_emergency_distribution(alerts):\n",
        "    types = [a.get('emergency_type', 'unknown') for a in alerts]\n",
        "    return Counter(types)"
      ],
      "metadata": {
        "id": "qOVA5x6SNO_b"
      },
      "execution_count": 15,
      "outputs": []
    },
    {
      "cell_type": "code",
      "source": [
        "alerts = []\n",
        "for path in image_paths:\n",
        "    emergency_type = predict_emergency_type(path)\n",
        "    alerts.append({'emergency_type': emergency_type})"
      ],
      "metadata": {
        "id": "3YdRxGpvNZag"
      },
      "execution_count": 16,
      "outputs": []
    },
    {
      "cell_type": "code",
      "source": [
        "distribution = get_emergency_distribution(alerts)\n",
        "print(\"Emergency Type Distribution:\", distribution)"
      ],
      "metadata": {
        "colab": {
          "base_uri": "https://localhost:8080/"
        },
        "id": "F5mr7lQyQ6pn",
        "outputId": "457d27de-46e6-4a65-a51d-d10826feb8d9"
      },
      "execution_count": 17,
      "outputs": [
        {
          "output_type": "stream",
          "name": "stdout",
          "text": [
            "Emergency Type Distribution: Counter({np.str_('accident'): 347})\n"
          ]
        }
      ]
    },
    {
      "cell_type": "code",
      "source": [
        "%matplotlib inline\n",
        "plt.bar(distribution.keys(), distribution.values())\n",
        "plt.title(\"Emergency Type Distribution\")\n",
        "plt.xlabel(\"Emergency Type\")\n",
        "plt.ylabel(\"Count\")\n",
        "plt.show()"
      ],
      "metadata": {
        "colab": {
          "base_uri": "https://localhost:8080/",
          "height": 472
        },
        "id": "PCcmY9OrNp42",
        "outputId": "67b80869-2c53-436e-e93a-b136ffa6ca3e"
      },
      "execution_count": 18,
      "outputs": [
        {
          "output_type": "display_data",
          "data": {
            "text/plain": [
              "<Figure size 640x480 with 1 Axes>"
            ],
            "image/png": "[encoded data removed]"
          },
          "metadata": {}
        }
      ]
    },
    {
      "cell_type": "code",
      "source": [
        "joblib.dump(dt_classifier, 'decision_tree_model.pkl')\n",
        "print(\"Model saved as decision_tree_model.pkl\")"
      ],
      "metadata": {
        "colab": {
          "base_uri": "https://localhost:8080/"
        },
        "id": "6quXpY4oN4V2",
        "outputId": "3cfe2240-69db-4412-ee55-76e3433c6f28"
      },
      "execution_count": 19,
      "outputs": [
        {
          "output_type": "stream",
          "name": "stdout",
          "text": [
            "Model saved as decision_tree_model.pkl\n"
          ]
        }
      ]
    },
    {
      "cell_type": "code",
      "source": [],
      "metadata": {
        "id": "qGGQtAVPN_s6"
      },
      "execution_count": null,
      "outputs": []
    }
  ]
}